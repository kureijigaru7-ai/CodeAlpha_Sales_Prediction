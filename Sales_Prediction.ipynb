{
  "nbformat": 4,
  "nbformat_minor": 0,
  "metadata": {
    "colab": {
      "provenance": [],
      "authorship_tag": "ABX9TyNWiRBTE9sJdAr9uw679AId",
      "include_colab_link": true
    },
    "kernelspec": {
      "name": "python3",
      "display_name": "Python 3"
    },
    "language_info": {
      "name": "python"
    }
  },
  "cells": [
    {
      "cell_type": "markdown",
      "metadata": {
        "id": "view-in-github",
        "colab_type": "text"
      },
      "source": [
        "<a href=\"https://colab.research.google.com/github/kureijigaru7-ai/CodeAlpha_Sales_Prediction/blob/main/Sales_Prediction.ipynb\" target=\"_parent\"><img src=\"https://colab.research.google.com/assets/colab-badge.svg\" alt=\"Open In Colab\"/></a>"
      ]
    },
    {
      "cell_type": "code",
      "execution_count": 2,
      "metadata": {
        "colab": {
          "base_uri": "https://localhost:8080/"
        },
        "id": "3f6xjk46S93c",
        "outputId": "f7b660c8-d807-42fd-afcc-017d2d4f1436"
      },
      "outputs": [
        {
          "output_type": "stream",
          "name": "stdout",
          "text": [
            "Sales Prediction model trained successfully!\n",
            "Predicted Sales for $4000 budget: $20440.00\n"
          ]
        },
        {
          "output_type": "stream",
          "name": "stderr",
          "text": [
            "/usr/local/lib/python3.12/dist-packages/sklearn/utils/validation.py:2739: UserWarning: X does not have valid feature names, but LinearRegression was fitted with feature names\n",
            "  warnings.warn(\n"
          ]
        }
      ],
      "source": [
        "# Sales Prediction - CodeAlpha Task\n",
        "# By: Kdsti Kidanemariam\n",
        "\n",
        "import pandas as pd\n",
        "from sklearn.linear_model import LinearRegression\n",
        "\n",
        "# Synthetic sales data\n",
        "data = {\n",
        "    'Advertising_Budget': [1000, 1500, 2000, 2500, 3000, 3500],\n",
        "    'Sales': [11000, 12500, 14200, 15500, 17200, 19000]\n",
        "}\n",
        "\n",
        "df = pd.DataFrame(data)\n",
        "\n",
        "X = df[['Advertising_Budget']]\n",
        "y = df['Sales']\n",
        "\n",
        "model = LinearRegression()\n",
        "model.fit(X, y)\n",
        "\n",
        "print(\"Sales Prediction model trained successfully!\")\n",
        "print(f\"Predicted Sales for $4000 budget: ${model.predict([[4000]])[0]:.2f}\")"
      ]
    }
  ]
}